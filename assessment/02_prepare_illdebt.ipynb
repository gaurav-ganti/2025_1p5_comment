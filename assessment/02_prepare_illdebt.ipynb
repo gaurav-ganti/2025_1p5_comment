{
 "cells": [
  {
   "cell_type": "markdown",
   "metadata": {},
   "source": [
    "# 02 Prepare illustrative debt estimates\n",
    "\n",
    "In this notebook, we prepare the illustrative carbon debt pathways that we will use for panel b of our figure."
   ]
  },
  {
   "cell_type": "code",
   "execution_count": 1,
   "metadata": {},
   "outputs": [],
   "source": [
    "import pyam\n",
    "import pandas as pd\n",
    "import numpy as np\n",
    "from pathlib import Path"
   ]
  },
  {
   "cell_type": "markdown",
   "metadata": {},
   "source": [
    "Step 1: Read in the data on regional emissions and debts."
   ]
  },
  {
   "cell_type": "code",
   "execution_count": 2,
   "metadata": {},
   "outputs": [],
   "source": [
    "r10 = pd.read_csv(\n",
    "    Path(\n",
    "        'data/r10_ndclts_impren_rcbyear.csv'\n",
    "    )\n",
    ")"
   ]
  },
  {
   "cell_type": "markdown",
   "metadata": {},
   "source": [
    "Step 2: Cast the necessary columns to a `pyam.IamDataFrame`"
   ]
  },
  {
   "cell_type": "code",
   "execution_count": 3,
   "metadata": {},
   "outputs": [
    {
     "data": {
      "text/plain": [
       "Index(['model', 'case', 'r10', 'year', 'terr_GtCO2', 'terr_GtCO2_cmltv_1990',\n",
       "       'terr_GtCO2_cmltv_2015', 'category', 'ppp_pf', 'rcb1990', 'rcb2015',\n",
       "       'rcbyear', 'exceedanceyear', 'debtyear', 'exceedanceshareyear', 'pop'],\n",
       "      dtype='object')"
      ]
     },
     "execution_count": 3,
     "metadata": {},
     "output_type": "execute_result"
    }
   ],
   "source": [
    "r10.columns"
   ]
  },
  {
   "cell_type": "code",
   "execution_count": 4,
   "metadata": {},
   "outputs": [],
   "source": [
    "r10_for_panel_b = pyam.IamDataFrame(\n",
    "    r10\n",
    "    .rename(\n",
    "        columns={\n",
    "            'case':'scenario',\n",
    "            'r10':'region'\n",
    "        }\n",
    "    )\n",
    "     .groupby(\n",
    "        ['model', 'scenario', 'year', 'region', 'category']\n",
    "    )[['terr_GtCO2', 'terr_GtCO2_cmltv_1990', 'rcb1990']]\n",
    "    .sum()\n",
    "    .stack()\n",
    "    .unstack(level='year')\n",
    "    .reset_index()\n",
    "    .rename(\n",
    "        columns={\n",
    "            'level_4':'variable'\n",
    "        }\n",
    "    )\n",
    "    .assign(\n",
    "        unit='Gt CO2'\n",
    "    )\n",
    ")"
   ]
  },
  {
   "cell_type": "markdown",
   "metadata": {},
   "source": [
    "Step 3: Aggregate a 'World' region"
   ]
  },
  {
   "cell_type": "code",
   "execution_count": 5,
   "metadata": {},
   "outputs": [],
   "source": [
    "r10_for_panel_b.aggregate_region(\n",
    "    variable=r10_for_panel_b.variable,\n",
    "    region='World',\n",
    "    subregions=r10_for_panel_b.region,\n",
    "    append=True\n",
    ")"
   ]
  },
  {
   "cell_type": "markdown",
   "metadata": {},
   "source": [
    "Step 4: Now, we want to calculate the share of remaining carbon budget consumed in each year."
   ]
  },
  {
   "cell_type": "code",
   "execution_count": 6,
   "metadata": {},
   "outputs": [],
   "source": [
    "r10_for_panel_b.divide(\n",
    "    a='terr_GtCO2_cmltv_1990',\n",
    "    b='rcb1990',\n",
    "    ignore_units='unit',\n",
    "    name='share_consumption_rcb',\n",
    "    append=True\n",
    ")"
   ]
  },
  {
   "cell_type": "code",
   "execution_count": 7,
   "metadata": {},
   "outputs": [],
   "source": [
    "r10_for_panel_b.convert_unit(\n",
    "    current='unit',\n",
    "    to='%',\n",
    "    factor=100,\n",
    "    inplace=True\n",
    ")"
   ]
  },
  {
   "cell_type": "markdown",
   "metadata": {},
   "source": [
    "Step 5: Finally, filter out for the necessary regions, scenarios, categories, and variable and read this out for further processing."
   ]
  },
  {
   "cell_type": "code",
   "execution_count": 8,
   "metadata": {},
   "outputs": [],
   "source": [
    "r10_readout = r10_for_panel_b.filter(\n",
    "    region=[\n",
    "        'R10AFRICA',\n",
    "        'R10EUROPE',\n",
    "        'World'\n",
    "    ],\n",
    "    scenario=[\n",
    "        'E',\n",
    "        'IMP-REN'\n",
    "    ],\n",
    "    category='PP1990',\n",
    "    variable='share_consumption_rcb'\n",
    ")"
   ]
  },
  {
   "cell_type": "code",
   "execution_count": 9,
   "metadata": {},
   "outputs": [],
   "source": [
    "r10_readout_ts = r10_readout.timeseries()"
   ]
  },
  {
   "cell_type": "code",
   "execution_count": 10,
   "metadata": {},
   "outputs": [],
   "source": [
    "r10_readout_ts[1990] = 0"
   ]
  },
  {
   "cell_type": "code",
   "execution_count": 11,
   "metadata": {},
   "outputs": [],
   "source": [
    "r10_readout = pyam.IamDataFrame(\n",
    "    r10_readout_ts\n",
    ")"
   ]
  },
  {
   "cell_type": "code",
   "execution_count": 12,
   "metadata": {},
   "outputs": [],
   "source": [
    "r10_readout.to_excel(\n",
    "    'data/02_data.xlsx'\n",
    ")"
   ]
  }
 ],
 "metadata": {
  "kernelspec": {
   "display_name": "1p5_comment",
   "language": "python",
   "name": "python3"
  },
  "language_info": {
   "codemirror_mode": {
    "name": "ipython",
    "version": 3
   },
   "file_extension": ".py",
   "mimetype": "text/x-python",
   "name": "python",
   "nbconvert_exporter": "python",
   "pygments_lexer": "ipython3",
   "version": "3.10.15"
  }
 },
 "nbformat": 4,
 "nbformat_minor": 2
}
