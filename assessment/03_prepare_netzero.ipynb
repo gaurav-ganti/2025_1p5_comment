{
 "cells": [
  {
   "cell_type": "code",
   "execution_count": 1,
   "id": "b6582bd4",
   "metadata": {},
   "outputs": [],
   "source": [
    "import pyam \n",
    "import pandas as pd\n",
    "import numpy as np\n",
    "\n",
    "from pathlib import Path\n",
    "import os\n",
    "import dotenv"
   ]
  },
  {
   "cell_type": "markdown",
   "id": "6216cd84",
   "metadata": {},
   "source": [
    "Step 1: Load the AR6 data and metadata"
   ]
  },
  {
   "cell_type": "code",
   "execution_count": 2,
   "id": "e0732c2a",
   "metadata": {},
   "outputs": [
    {
     "data": {
      "text/plain": [
       "True"
      ]
     },
     "execution_count": 2,
     "metadata": {},
     "output_type": "execute_result"
    }
   ],
   "source": [
    "dotenv.load_dotenv()"
   ]
  },
  {
   "cell_type": "code",
   "execution_count": 3,
   "id": "903b5362",
   "metadata": {},
   "outputs": [],
   "source": [
    "df = pd.read_csv(\n",
    "    os.environ['AR6'],\n",
    "    index_col=[0, 1]\n",
    ")"
   ]
  },
  {
   "cell_type": "code",
   "execution_count": 4,
   "id": "0b65c93c",
   "metadata": {},
   "outputs": [],
   "source": [
    "meta = pd.read_excel(\n",
    "    os.environ['AR6_META'],\n",
    "    sheet_name='meta_Ch3vetted_withclimate',\n",
    "    index_col=[0,1]\n",
    ")"
   ]
  },
  {
   "cell_type": "markdown",
   "id": "a9188015",
   "metadata": {},
   "source": [
    "Step 2: Filter out for the kyoto greenhouse gas emissions (harmonised). We will use this data to calculate the cumulative net-negative GHG emissions."
   ]
  },
  {
   "cell_type": "code",
   "execution_count": 5,
   "id": "2a247776",
   "metadata": {},
   "outputs": [],
   "source": [
    "df_kyoto = df[\n",
    "    df['Variable']=='AR6 climate diagnostics|Infilled|Emissions|Kyoto Gases (AR6-GWP100)'\n",
    "]"
   ]
  },
  {
   "cell_type": "markdown",
   "id": "fea72003",
   "metadata": {},
   "source": [
    "Step 3: Filter the metadata using:\n",
    "* Median peak warming less than 2°C\n",
    "* Achieve net zero GHG before 2100"
   ]
  },
  {
   "cell_type": "code",
   "execution_count": 6,
   "id": "664643f9",
   "metadata": {},
   "outputs": [],
   "source": [
    "meta_two = meta[\n",
    "    meta['Median peak warming (MAGICCv7.5.3)']<2\n",
    "]"
   ]
  },
  {
   "cell_type": "code",
   "execution_count": 7,
   "id": "5a0aad13",
   "metadata": {},
   "outputs": [],
   "source": [
    "meta_two_netzero = meta_two[\n",
    "    meta_two['Year of netzero GHG emissions (Harm-Infilled) Table SPM2']<2100\n",
    "]"
   ]
  },
  {
   "cell_type": "markdown",
   "id": "ad2f8467",
   "metadata": {},
   "source": [
    "Step 4: Downselect scenarios in the the dataframe."
   ]
  },
  {
   "cell_type": "code",
   "execution_count": 8,
   "id": "267caaf7",
   "metadata": {},
   "outputs": [],
   "source": [
    "df_kyoto_downselected = pyam.IamDataFrame(\n",
    "    df_kyoto.loc[meta_two_netzero.index, :]\n",
    "    .reset_index()\n",
    ")"
   ]
  },
  {
   "cell_type": "markdown",
   "id": "695b18e4",
   "metadata": {},
   "source": [
    "Step 5: Convert units and then calculate the cumulative net-negative GHG emissions."
   ]
  },
  {
   "cell_type": "code",
   "execution_count": 9,
   "id": "2f1a75bc",
   "metadata": {},
   "outputs": [],
   "source": [
    "df_kyoto_downselected.convert_unit(\n",
    "    current='Mt CO2-equiv/yr',\n",
    "    to='Gt CO2-equiv/yr',\n",
    "    inplace=True\n",
    ")"
   ]
  },
  {
   "cell_type": "code",
   "execution_count": 10,
   "id": "619adc3e",
   "metadata": {},
   "outputs": [],
   "source": [
    "df_kyoto_downselected.set_meta(\n",
    "    df_kyoto_downselected.timeseries().apply(\n",
    "        lambda x: pyam.timeseries.cumulative(\n",
    "            x,\n",
    "            first_year=meta_two_netzero.loc[x.name[0:2],'Year of netzero GHG emissions (Harm-Infilled) Table SPM2'],\n",
    "            last_year=2100\n",
    "        ),\n",
    "        axis=1\n",
    "    ),\n",
    "    name='cumulative_netneg_gtco2'\n",
    ")"
   ]
  },
  {
   "cell_type": "markdown",
   "id": "505f9630",
   "metadata": {},
   "source": [
    "Step 6: Add in the additional columns to the metadata and then save this out for plotting."
   ]
  },
  {
   "cell_type": "code",
   "execution_count": 11,
   "id": "fd83c9ef",
   "metadata": {},
   "outputs": [],
   "source": [
    "panelc_data = df_kyoto_downselected.meta"
   ]
  },
  {
   "cell_type": "code",
   "execution_count": 12,
   "id": "3bde78f1",
   "metadata": {},
   "outputs": [],
   "source": [
    "panelc_data.loc[:, 'category'] = meta_two_netzero.loc[panelc_data.index, 'Category']\n",
    "panelc_data.loc[:, 'warming_peak'] = meta_two_netzero.loc[panelc_data.index, 'Median peak warming (MAGICCv7.5.3)'].round(2)\n",
    "panelc_data.loc[:, 'warming_2100'] = meta_two_netzero.loc[panelc_data.index, 'Median warming in 2100 (MAGICCv7.5.3)'].round(2)"
   ]
  },
  {
   "cell_type": "markdown",
   "id": "15282623",
   "metadata": {},
   "source": [
    "Step 7: Save this out."
   ]
  },
  {
   "cell_type": "code",
   "execution_count": 13,
   "id": "2530f6bd",
   "metadata": {},
   "outputs": [],
   "source": [
    "panelc_data.to_excel(\n",
    "    Path('data/03_data.xlsx'),\n",
    "    merge_cells=False\n",
    ")"
   ]
  }
 ],
 "metadata": {
  "kernelspec": {
   "display_name": "1p5_comment",
   "language": "python",
   "name": "python3"
  },
  "language_info": {
   "codemirror_mode": {
    "name": "ipython",
    "version": 3
   },
   "file_extension": ".py",
   "mimetype": "text/x-python",
   "name": "python",
   "nbconvert_exporter": "python",
   "pygments_lexer": "ipython3",
   "version": "3.10.15"
  }
 },
 "nbformat": 4,
 "nbformat_minor": 5
}
